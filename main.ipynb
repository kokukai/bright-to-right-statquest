{
 "cells": [
  {
   "cell_type": "code",
   "execution_count": 2,
   "metadata": {},
   "outputs": [],
   "source": [
    "from Inverter import invert_video\n",
    "from Scraper import scrape\n",
    "from Downloader import download_video"
   ]
  },
  {
   "cell_type": "markdown",
   "metadata": {},
   "source": [
    "![Flowchart](https://showme.redstarplugin.com/d/MGQLkO4a)"
   ]
  },
  {
   "cell_type": "markdown",
   "metadata": {},
   "source": [
    "## Scraping Tips\n",
    "You can scrape manually or just get the titles from https://statquest.org/video-index/"
   ]
  },
  {
   "cell_type": "code",
   "execution_count": 3,
   "metadata": {},
   "outputs": [],
   "source": [
    "scrape(channel_id='statquest')"
   ]
  },
  {
   "cell_type": "code",
   "execution_count": 4,
   "metadata": {},
   "outputs": [
    {
     "name": "stdout",
     "output_type": "stream",
     "text": [
      "[youtube] Extracting URL: https://www.youtube.com/watch?v=XLCWeSVzHUU\n",
      "[youtube] XLCWeSVzHUU: Downloading webpage\n",
      "[youtube] XLCWeSVzHUU: Downloading ios player API JSON\n",
      "[youtube] XLCWeSVzHUU: Downloading android player API JSON\n",
      "[youtube] XLCWeSVzHUU: Downloading m3u8 information\n",
      "[info] XLCWeSVzHUU: Downloading 1 format(s): 244+251\n",
      "[download] Destination: Sampling from a Distribution, Clearly Explained!!!.f244.webm\n",
      "[download] 100% of    1.38MiB in 00:00:00 at 2.59MiB/s     \n",
      "[download] Destination: Sampling from a Distribution, Clearly Explained!!!.f251.webm\n",
      "[download] 100% of    3.12MiB in 00:00:00 at 6.05MiB/s   \n",
      "[Merger] Merging formats into \"Sampling from a Distribution, Clearly Explained!!!.webm\"\n",
      "Deleting original file Sampling from a Distribution, Clearly Explained!!!.f244.webm (pass -k to keep)\n",
      "Deleting original file Sampling from a Distribution, Clearly Explained!!!.f251.webm (pass -k to keep)\n"
     ]
    }
   ],
   "source": [
    "download_video(title=\"Sampling from a Distribution, Clearly Explained!!!\", output_folder=r\"./\")"
   ]
  },
  {
   "cell_type": "code",
   "execution_count": 6,
   "metadata": {},
   "outputs": [
    {
     "name": "stdout",
     "output_type": "stream",
     "text": [
      "Moviepy - Building video output_video.mp4.\n",
      "MoviePy - Writing audio in output_videoTEMP_MPY_wvf_snd.mp3\n"
     ]
    },
    {
     "name": "stderr",
     "output_type": "stream",
     "text": [
      "                                                                       \r"
     ]
    },
    {
     "name": "stdout",
     "output_type": "stream",
     "text": [
      "MoviePy - Done.\n",
      "Moviepy - Writing video output_video.mp4\n",
      "\n"
     ]
    },
    {
     "name": "stderr",
     "output_type": "stream",
     "text": [
      "                                                                   \r"
     ]
    },
    {
     "name": "stdout",
     "output_type": "stream",
     "text": [
      "Moviepy - Done !\n",
      "Moviepy - video ready output_video.mp4\n"
     ]
    }
   ],
   "source": [
    "invert_video(video_path=r'YOUR_PATH')"
   ]
  }
 ],
 "metadata": {
  "kernelspec": {
   "display_name": "Python 3",
   "language": "python",
   "name": "python3"
  },
  "language_info": {
   "codemirror_mode": {
    "name": "ipython",
    "version": 3
   },
   "file_extension": ".py",
   "mimetype": "text/x-python",
   "name": "python",
   "nbconvert_exporter": "python",
   "pygments_lexer": "ipython3",
   "version": "3.10.11"
  },
  "orig_nbformat": 4
 },
 "nbformat": 4,
 "nbformat_minor": 2
}
